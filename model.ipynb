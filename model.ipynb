{
  "nbformat": 4,
  "nbformat_minor": 0,
  "metadata": {
    "colab": {
      "provenance": [],
      "gpuType": "T4"
    },
    "kernelspec": {
      "name": "python3",
      "display_name": "Python 3"
    },
    "language_info": {
      "name": "python"
    },
    "accelerator": "GPU"
  },
  "cells": [
    {
      "cell_type": "code",
      "execution_count": 3,
      "metadata": {
        "colab": {
          "base_uri": "https://localhost:8080/"
        },
        "id": "8OsAADzEXHUx",
        "outputId": "d98e49b7-5db9-4698-e732-0fd431d93f7f"
      },
      "outputs": [
        {
          "output_type": "stream",
          "name": "stdout",
          "text": [
            "Mounted at /content/drive\n"
          ]
        }
      ],
      "source": [
        "from google.colab import drive\n",
        "drive.mount('/content/drive')"
      ]
    },
    {
      "cell_type": "code",
      "source": [
        "# Import helper functions\n",
        "def split_dir_to_train_test_val(directory = \"/content/drive/MyDrive/data7\",\n",
        "                            train_size = 0.7,\n",
        "                            test_size = 0.2,\n",
        "                            val_size = 0.1):\n",
        "  \"\"\"\n",
        "  Creates 3 folders for Train, Test and Validation data\n",
        "  \"\"\"\n",
        "  import os\n",
        "  import random\n",
        "  import shutil\n",
        "\n",
        "  # Set random seed\n",
        "  rng = random.Random(42)\n",
        "\n",
        "  for root, folders, files in os.walk(directory):\n",
        "    for folder in folders:\n",
        "      # Create list of the files\n",
        "      list_of_files = []\n",
        "      for file_name in os.listdir(root+folder+\"/\"):\n",
        "        list_of_files.append(file_name)\n",
        "\n",
        "      #  Shuffle the list\n",
        "      rng.shuffle(list_of_files)\n",
        "\n",
        "      # Create lists of files\n",
        "      train_files = list_of_files[:int(len(list_of_files)*train_size)]\n",
        "      test_files = list_of_files[int(len(list_of_files)*train_size) : int(len(list_of_files)*(train_size+test_size))]\n",
        "      val_files = list_of_files[int(len(list_of_files)*(train_size+test_size)):]\n",
        "\n",
        "      # Create folders and files for train data\n",
        "      for one_file in train_files:\n",
        "\n",
        "        # Copy  files\n",
        "        dest_dir = \"files/train/\"+folder+\"/\"\n",
        "        os.makedirs(dest_dir, exist_ok=True)\n",
        "\n",
        "        shutil.copy2(src=(root+folder+\"/\"+one_file),\n",
        "                    dst=(dest_dir+one_file))\n",
        "      print(f\"Folder {folder}. Train data copied. {len(train_files)} files\")\n",
        "\n",
        "      # Create folders and files for test data\n",
        "      for one_file in test_files:\n",
        "        # Copy  files\n",
        "        dest_dir = \"files/test/\"+folder+\"/\"\n",
        "        os.makedirs(dest_dir, exist_ok=True)\n",
        "\n",
        "        shutil.copy2(src=(root+folder+\"/\"+one_file),\n",
        "                    dst=(dest_dir+one_file))\n",
        "      print(f\"Folder {folder}. Test data copied. {len(test_files)} files\")\n",
        "\n",
        "      # Create folders and files for validation data\n",
        "      for one_file in val_files:\n",
        "\n",
        "        # Copy  files\n",
        "        dest_dir = \"files/validation/\"+folder+\"/\"\n",
        "        os.makedirs(dest_dir, exist_ok=True)\n",
        "\n",
        "        shutil.copy2(src=(root+folder+\"/\"+one_file),\n",
        "                    dst=(dest_dir+one_file))\n",
        "      print(f\"Folder {folder}. Validation data copied. {len(val_files)} files\")\n",
        "\n",
        "\n",
        "\n",
        "\n",
        "def get_class_names_from_folder(directory):\n",
        "  \"\"\"\n",
        "  Get the classnames from train folder for example\n",
        "  \"\"\"\n",
        "  import pathlib\n",
        "  import numpy as np\n",
        "  data_dir = pathlib.Path(directory)\n",
        "  class_names = np.array(sorted([item.name for item in data_dir.glob(\"*\")])) # Created a list of class names\n",
        "  return class_names\n",
        "  print(class_names)"
      ],
      "metadata": {
        "id": "jsMKFTcdXIBN"
      },
      "execution_count": 4,
      "outputs": []
    },
    {
      "cell_type": "code",
      "source": [
        "# Split images dir to train, test and validation\n",
        "split_dir_to_train_test_val(directory=\"/content/drive/MyDrive/data7/\",\n",
        "                            train_size=0.7,\n",
        "                            test_size=0.2,\n",
        "                            val_size=0.1)"
      ],
      "metadata": {
        "colab": {
          "base_uri": "https://localhost:8080/"
        },
        "id": "NjiEH6n9XcFN",
        "outputId": "84a3dddf-0ea1-473d-cccf-900518497ec7"
      },
      "execution_count": 5,
      "outputs": [
        {
          "output_type": "stream",
          "name": "stdout",
          "text": [
            "Folder berbere. Train data copied. 42 files\n",
            "Folder berbere. Test data copied. 12 files\n",
            "Folder berbere. Validation data copied. 7 files\n",
            "Folder blackCabbage. Train data copied. 55 files\n",
            "Folder blackCabbage. Test data copied. 16 files\n",
            "Folder blackCabbage. Validation data copied. 8 files\n",
            "Folder chicken. Train data copied. 118 files\n",
            "Folder chicken. Test data copied. 34 files\n",
            "Folder chicken. Validation data copied. 18 files\n",
            "Folder carrot. Train data copied. 67 files\n",
            "Folder carrot. Test data copied. 20 files\n",
            "Folder carrot. Validation data copied. 10 files\n",
            "Folder butter. Train data copied. 14 files\n",
            "Folder butter. Test data copied. 4 files\n",
            "Folder butter. Validation data copied. 2 files\n",
            "Folder bread. Train data copied. 71 files\n",
            "Folder bread. Test data copied. 20 files\n",
            "Folder bread. Validation data copied. 11 files\n",
            "Folder cheese. Train data copied. 69 files\n",
            "Folder cheese. Test data copied. 20 files\n",
            "Folder cheese. Validation data copied. 10 files\n",
            "Folder bulgurWheat. Train data copied. 53 files\n",
            "Folder bulgurWheat. Test data copied. 16 files\n",
            "Folder bulgurWheat. Validation data copied. 8 files\n",
            "Folder cabbage. Train data copied. 74 files\n",
            "Folder cabbage. Test data copied. 21 files\n",
            "Folder cabbage. Validation data copied. 11 files\n",
            "Folder Cauliflower. Train data copied. 34 files\n",
            "Folder Cauliflower. Test data copied. 10 files\n",
            "Folder Cauliflower. Validation data copied. 5 files\n",
            "Folder chilliPapper. Train data copied. 55 files\n",
            "Folder chilliPapper. Test data copied. 16 files\n",
            "Folder chilliPapper. Validation data copied. 8 files\n",
            "Folder egg. Train data copied. 74 files\n",
            "Folder egg. Test data copied. 21 files\n",
            "Folder egg. Validation data copied. 11 files\n",
            "Folder flour. Train data copied. 55 files\n",
            "Folder flour. Test data copied. 16 files\n",
            "Folder flour. Validation data copied. 8 files\n",
            "Folder injera. Train data copied. 65 files\n",
            "Folder injera. Test data copied. 18 files\n",
            "Folder injera. Validation data copied. 10 files\n",
            "Folder garlic. Train data copied. 57 files\n",
            "Folder garlic. Test data copied. 16 files\n",
            "Folder garlic. Validation data copied. 9 files\n",
            "Folder fish. Train data copied. 62 files\n",
            "Folder fish. Test data copied. 18 files\n",
            "Folder fish. Validation data copied. 10 files\n",
            "Folder lemon. Train data copied. 51 files\n",
            "Folder lemon. Test data copied. 15 files\n",
            "Folder lemon. Validation data copied. 8 files\n",
            "Folder macaroni. Train data copied. 59 files\n",
            "Folder macaroni. Test data copied. 17 files\n",
            "Folder macaroni. Validation data copied. 9 files\n",
            "Folder ginger. Train data copied. 53 files\n",
            "Folder ginger. Test data copied. 15 files\n",
            "Folder ginger. Validation data copied. 8 files\n",
            "Folder lentils. Train data copied. 60 files\n",
            "Folder lentils. Test data copied. 17 files\n",
            "Folder lentils. Validation data copied. 9 files\n",
            "Folder meat. Train data copied. 114 files\n",
            "Folder meat. Test data copied. 32 files\n",
            "Folder meat. Validation data copied. 17 files\n",
            "Folder oil. Train data copied. 49 files\n",
            "Folder oil. Test data copied. 13 files\n",
            "Folder oil. Validation data copied. 8 files\n",
            "Folder pepper. Train data copied. 85 files\n",
            "Folder pepper. Test data copied. 24 files\n",
            "Folder pepper. Validation data copied. 13 files\n",
            "Folder onion. Train data copied. 62 files\n",
            "Folder onion. Test data copied. 18 files\n",
            "Folder onion. Validation data copied. 10 files\n",
            "Folder peas. Train data copied. 95 files\n",
            "Folder peas. Test data copied. 28 files\n",
            "Folder peas. Validation data copied. 14 files\n",
            "Folder redRoot. Train data copied. 62 files\n",
            "Folder redRoot. Test data copied. 18 files\n",
            "Folder redRoot. Validation data copied. 9 files\n",
            "Folder potatoes. Train data copied. 92 files\n",
            "Folder potatoes. Test data copied. 26 files\n",
            "Folder potatoes. Validation data copied. 14 files\n",
            "Folder shiro. Train data copied. 39 files\n",
            "Folder shiro. Test data copied. 12 files\n",
            "Folder shiro. Validation data copied. 6 files\n",
            "Folder pasta. Train data copied. 48 files\n",
            "Folder pasta. Test data copied. 14 files\n",
            "Folder pasta. Validation data copied. 7 files\n",
            "Folder salad. Train data copied. 58 files\n",
            "Folder salad. Test data copied. 16 files\n",
            "Folder salad. Validation data copied. 9 files\n",
            "Folder solidLentils. Train data copied. 64 files\n",
            "Folder solidLentils. Test data copied. 18 files\n",
            "Folder solidLentils. Validation data copied. 10 files\n",
            "Folder soyaBeans. Train data copied. 60 files\n",
            "Folder soyaBeans. Test data copied. 17 files\n",
            "Folder soyaBeans. Validation data copied. 9 files\n",
            "Folder sweetPotatoes. Train data copied. 43 files\n",
            "Folder sweetPotatoes. Test data copied. 12 files\n",
            "Folder sweetPotatoes. Validation data copied. 7 files\n",
            "Folder tomato. Train data copied. 60 files\n",
            "Folder tomato. Test data copied. 17 files\n",
            "Folder tomato. Validation data copied. 9 files\n",
            "Folder turmeric. Train data copied. 61 files\n",
            "Folder turmeric. Test data copied. 18 files\n",
            "Folder turmeric. Validation data copied. 9 files\n"
          ]
        }
      ]
    },
    {
      "cell_type": "code",
      "source": [
        "# Using helper function get class names\n",
        "class_names = get_class_names_from_folder(directory=\"files/train/\")\n",
        "class_names"
      ],
      "metadata": {
        "colab": {
          "base_uri": "https://localhost:8080/"
        },
        "id": "g5pZYzziXk6T",
        "outputId": "080f5010-2f1c-4a2d-b81e-fa0cb05065f4"
      },
      "execution_count": 6,
      "outputs": [
        {
          "output_type": "execute_result",
          "data": {
            "text/plain": [
              "array(['Cauliflower', 'berbere', 'blackCabbage', 'bread', 'bulgurWheat',\n",
              "       'butter', 'cabbage', 'carrot', 'cheese', 'chicken', 'chilliPapper',\n",
              "       'egg', 'fish', 'flour', 'garlic', 'ginger', 'injera', 'lemon',\n",
              "       'lentils', 'macaroni', 'meat', 'oil', 'onion', 'pasta', 'peas',\n",
              "       'pepper', 'potatoes', 'redRoot', 'salad', 'shiro', 'solidLentils',\n",
              "       'soyaBeans', 'sweetPotatoes', 'tomato', 'turmeric'], dtype='<U13')"
            ]
          },
          "metadata": {},
          "execution_count": 6
        }
      ]
    },
    {
      "cell_type": "code",
      "source": [
        "len(class_names)"
      ],
      "metadata": {
        "colab": {
          "base_uri": "https://localhost:8080/"
        },
        "id": "RfCyXHKWXtkd",
        "outputId": "bd90db8f-5033-496c-e472-8ac313c3740c"
      },
      "execution_count": 7,
      "outputs": [
        {
          "output_type": "execute_result",
          "data": {
            "text/plain": [
              "35"
            ]
          },
          "metadata": {},
          "execution_count": 7
        }
      ]
    },
    {
      "cell_type": "code",
      "source": [
        "# Let's visualize some images\n",
        "import matplotlib.pyplot as plt\n",
        "import matplotlib.image as mpimg\n",
        "\n",
        "import os\n",
        "import random\n",
        "\n",
        "def visualize_random_image(target_dir, target_class):\n",
        "  \"\"\"\n",
        "  Visualises random image from exact directory\n",
        "  \"\"\"\n",
        "  image_dir = target_dir + target_class\n",
        "  random_image = random.sample(os.listdir(image_dir), 1)\n",
        "\n",
        "  img = mpimg.imread(image_dir + \"/\" + random_image[0])\n",
        "  plt.imshow(img)\n",
        "  plt.title(target_class)\n",
        "\n",
        "visualize_random_image(\"files/test/\", \"turmeric\")"
      ],
      "metadata": {
        "colab": {
          "base_uri": "https://localhost:8080/",
          "height": 452
        },
        "id": "3BdkvV3DXuOC",
        "outputId": "6039b266-0ed6-4fe0-e872-ed4a4ade3332"
      },
      "execution_count": 12,
      "outputs": [
        {
          "output_type": "display_data",
          "data": {
            "text/plain": [
              "<Figure size 640x480 with 1 Axes>"
            ],
            "image/png": "[encoded data removed]"
          },
          "metadata": {}
        }
      ]
    },
    {
      "cell_type": "code",
      "source": [
        "# Import library\n",
        "import tensorflow as tf\n",
        "from tensorflow.keras.preprocessing.image import ImageDataGenerator\n",
        "\n",
        "train_datagen = ImageDataGenerator(rescale=1/255.)\n",
        "test_datagen = ImageDataGenerator(rescale=1/255.)\n",
        "val_datagen = ImageDataGenerator(rescale=1/255.)\n",
        "\n",
        "train_data = train_datagen.flow_from_directory(directory=\"files/train\",\n",
        "                                               target_size=(240, 240),\n",
        "                                               batch_size=32,\n",
        "                                               class_mode=\"categorical\")\n",
        "\n",
        "test_data = test_datagen.flow_from_directory(directory=\"files/test\",\n",
        "                                               target_size=(240, 240),\n",
        "                                               batch_size=32,\n",
        "                                               class_mode=\"categorical\")\n",
        "\n",
        "validation_data = val_datagen.flow_from_directory(directory=\"files/validation\",\n",
        "                                               target_size=(240, 240),\n",
        "                                               batch_size=32,\n",
        "                                               class_mode=\"categorical\")"
      ],
      "metadata": {
        "id": "Ia83uLUuXwzo",
        "colab": {
          "base_uri": "https://localhost:8080/"
        },
        "outputId": "94475d4e-18c2-4fe6-ddea-a6cd38ceb4ae"
      },
      "execution_count": 13,
      "outputs": [
        {
          "output_type": "stream",
          "name": "stdout",
          "text": [
            "Found 2180 images belonging to 35 classes.\n",
            "Found 625 images belonging to 35 classes.\n",
            "Found 331 images belonging to 35 classes.\n"
          ]
        }
      ]
    },
    {
      "cell_type": "code",
      "source": [
        "# Set random seed\n",
        "tf.random.set_seed(42)\n",
        "\n",
        "from tensorflow.keras.models import Sequential\n",
        "from tensorflow.keras.layers import Dense, Flatten, Conv2D, MaxPool2D\n",
        "from tensorflow.keras.optimizers import Adam\n",
        "\n",
        "# Create model\n",
        "model = Sequential([\n",
        "    Conv2D(10, 3, activation=\"relu\", input_shape=(240, 240, 3)),\n",
        "    MaxPool2D(pool_size=2),\n",
        "    Conv2D(10, 3, activation=\"relu\"),\n",
        "    MaxPool2D(pool_size=2),\n",
        "    Flatten(),\n",
        "    Dense(35, activation=\"softmax\")\n",
        "])\n",
        "\n",
        "# Compile the model\n",
        "model.compile(loss=\"categorical_crossentropy\",\n",
        "              optimizer=Adam(),\n",
        "              metrics=[\"accuracy\"])"
      ],
      "metadata": {
        "id": "-so8LfuNX1wU"
      },
      "execution_count": 20,
      "outputs": []
    },
    {
      "cell_type": "code",
      "source": [
        "batch_size = len(train_data)\n",
        "\n",
        "# Fit the model\n",
        "history = model.fit(train_data,\n",
        "                    batch_size=batch_size,\n",
        "                    epochs=30,\n",
        "                    steps_per_epoch=len(train_data),\n",
        "                    validation_data=validation_data,\n",
        "                    validation_steps=len(validation_data))"
      ],
      "metadata": {
        "id": "1z4WDblYX4pH",
        "colab": {
          "base_uri": "https://localhost:8080/"
        },
        "outputId": "f36e8e51-4ed3-48a6-d1e6-c869b2a4c6be"
      },
      "execution_count": 21,
      "outputs": [
        {
          "output_type": "stream",
          "name": "stdout",
          "text": [
            "Epoch 1/30\n",
            "69/69 [==============================] - 8s 70ms/step - loss: 3.2111 - accuracy: 0.1335 - val_loss: 2.6806 - val_accuracy: 0.2266\n",
            "Epoch 2/30\n",
            "69/69 [==============================] - 6s 83ms/step - loss: 2.1406 - accuracy: 0.3858 - val_loss: 2.3838 - val_accuracy: 0.3202\n",
            "Epoch 3/30\n",
            "69/69 [==============================] - 5s 73ms/step - loss: 1.3799 - accuracy: 0.6239 - val_loss: 2.7728 - val_accuracy: 0.2870\n",
            "Epoch 4/30\n",
            "69/69 [==============================] - 4s 62ms/step - loss: 0.8225 - accuracy: 0.7931 - val_loss: 2.4578 - val_accuracy: 0.3414\n",
            "Epoch 5/30\n",
            "69/69 [==============================] - 6s 83ms/step - loss: 0.4611 - accuracy: 0.9055 - val_loss: 2.5184 - val_accuracy: 0.3535\n",
            "Epoch 6/30\n",
            "69/69 [==============================] - 4s 60ms/step - loss: 0.2414 - accuracy: 0.9468 - val_loss: 2.7005 - val_accuracy: 0.3625\n",
            "Epoch 7/30\n",
            "69/69 [==============================] - 6s 83ms/step - loss: 0.1309 - accuracy: 0.9780 - val_loss: 2.9691 - val_accuracy: 0.3686\n",
            "Epoch 8/30\n",
            "69/69 [==============================] - 5s 75ms/step - loss: 0.0946 - accuracy: 0.9812 - val_loss: 3.0569 - val_accuracy: 0.3535\n",
            "Epoch 9/30\n",
            "69/69 [==============================] - 5s 69ms/step - loss: 0.0570 - accuracy: 0.9913 - val_loss: 3.0901 - val_accuracy: 0.3867\n",
            "Epoch 10/30\n",
            "69/69 [==============================] - 7s 96ms/step - loss: 0.1156 - accuracy: 0.9734 - val_loss: 3.0229 - val_accuracy: 0.3323\n",
            "Epoch 11/30\n",
            "69/69 [==============================] - 4s 62ms/step - loss: 0.0673 - accuracy: 0.9853 - val_loss: 3.3202 - val_accuracy: 0.3625\n",
            "Epoch 12/30\n",
            "69/69 [==============================] - 5s 71ms/step - loss: 0.0609 - accuracy: 0.9853 - val_loss: 3.4560 - val_accuracy: 0.3414\n",
            "Epoch 13/30\n",
            "69/69 [==============================] - 5s 78ms/step - loss: 0.2110 - accuracy: 0.9642 - val_loss: 3.2093 - val_accuracy: 0.3323\n",
            "Epoch 14/30\n",
            "69/69 [==============================] - 4s 64ms/step - loss: 0.0600 - accuracy: 0.9862 - val_loss: 3.3107 - val_accuracy: 0.3656\n",
            "Epoch 15/30\n",
            "69/69 [==============================] - 6s 85ms/step - loss: 0.0386 - accuracy: 0.9922 - val_loss: 3.3280 - val_accuracy: 0.3323\n",
            "Epoch 16/30\n",
            "69/69 [==============================] - 4s 63ms/step - loss: 0.0273 - accuracy: 0.9940 - val_loss: 3.7153 - val_accuracy: 0.3384\n",
            "Epoch 17/30\n",
            "69/69 [==============================] - 4s 63ms/step - loss: 0.0206 - accuracy: 0.9954 - val_loss: 3.8114 - val_accuracy: 0.3595\n",
            "Epoch 18/30\n",
            "69/69 [==============================] - 6s 80ms/step - loss: 0.0198 - accuracy: 0.9950 - val_loss: 3.9603 - val_accuracy: 0.3535\n",
            "Epoch 19/30\n",
            "69/69 [==============================] - 5s 65ms/step - loss: 0.0311 - accuracy: 0.9927 - val_loss: 4.0757 - val_accuracy: 0.3565\n",
            "Epoch 20/30\n",
            "69/69 [==============================] - 6s 87ms/step - loss: 0.0521 - accuracy: 0.9890 - val_loss: 3.6993 - val_accuracy: 0.3172\n",
            "Epoch 21/30\n",
            "69/69 [==============================] - 4s 63ms/step - loss: 0.0263 - accuracy: 0.9954 - val_loss: 4.0404 - val_accuracy: 0.3656\n",
            "Epoch 22/30\n",
            "69/69 [==============================] - 6s 84ms/step - loss: 0.0183 - accuracy: 0.9959 - val_loss: 3.9883 - val_accuracy: 0.4079\n",
            "Epoch 23/30\n",
            "69/69 [==============================] - 5s 74ms/step - loss: 0.0148 - accuracy: 0.9963 - val_loss: 4.1498 - val_accuracy: 0.3807\n",
            "Epoch 24/30\n",
            "69/69 [==============================] - 4s 64ms/step - loss: 0.0127 - accuracy: 0.9972 - val_loss: 4.1785 - val_accuracy: 0.3807\n",
            "Epoch 25/30\n",
            "69/69 [==============================] - 6s 80ms/step - loss: 0.0242 - accuracy: 0.9927 - val_loss: 4.5603 - val_accuracy: 0.3474\n",
            "Epoch 26/30\n",
            "69/69 [==============================] - 5s 68ms/step - loss: 0.0722 - accuracy: 0.9817 - val_loss: 3.9044 - val_accuracy: 0.3656\n",
            "Epoch 27/30\n",
            "69/69 [==============================] - 5s 66ms/step - loss: 0.0414 - accuracy: 0.9894 - val_loss: 4.0970 - val_accuracy: 0.3202\n",
            "Epoch 28/30\n",
            "69/69 [==============================] - 5s 78ms/step - loss: 0.0679 - accuracy: 0.9853 - val_loss: 4.0339 - val_accuracy: 0.2961\n",
            "Epoch 29/30\n",
            "69/69 [==============================] - 4s 62ms/step - loss: 0.0554 - accuracy: 0.9858 - val_loss: 3.9391 - val_accuracy: 0.3293\n",
            "Epoch 30/30\n",
            "69/69 [==============================] - 4s 63ms/step - loss: 0.0313 - accuracy: 0.9950 - val_loss: 4.1085 - val_accuracy: 0.3384\n"
          ]
        }
      ]
    },
    {
      "cell_type": "code",
      "source": [
        "#Evaluate the model\n",
        "model.evaluate(test_data)"
      ],
      "metadata": {
        "id": "9ZVkzFOqX-dA",
        "colab": {
          "base_uri": "https://localhost:8080/"
        },
        "outputId": "ee1b8a5b-c82d-44cd-9886-bf4020bd96e2"
      },
      "execution_count": 22,
      "outputs": [
        {
          "output_type": "stream",
          "name": "stdout",
          "text": [
            "20/20 [==============================] - 3s 127ms/step - loss: 4.1975 - accuracy: 0.3360\n"
          ]
        },
        {
          "output_type": "execute_result",
          "data": {
            "text/plain": [
              "[4.197536945343018, 0.335999995470047]"
            ]
          },
          "metadata": {},
          "execution_count": 22
        }
      ]
    },
    {
      "cell_type": "code",
      "source": [
        "import pandas as pd\n",
        "\n",
        "pd.DataFrame(history.history).plot()"
      ],
      "metadata": {
        "colab": {
          "base_uri": "https://localhost:8080/",
          "height": 447
        },
        "id": "GZAHFzJsS4-I",
        "outputId": "a8dc4dba-2a43-4df2-b681-44952d42576e"
      },
      "execution_count": 23,
      "outputs": [
        {
          "output_type": "execute_result",
          "data": {
            "text/plain": [
              "<Axes: >"
            ]
          },
          "metadata": {},
          "execution_count": 23
        },
        {
          "output_type": "display_data",
          "data": {
            "text/plain": [
              "<Figure size 640x480 with 1 Axes>"
            ],
            "image/png": "[encoded data removed]"
          },
          "metadata": {}
        }
      ]
    },
    {
      "cell_type": "code",
      "source": [
        "# Download image\n",
        "!wget https://images.healthshots.com/healthshots/en/uploads/2022/01/21143156/EGG-1600x900.jpg\n",
        "\n",
        "def load_and_resize_image(filename, size):\n",
        "\n",
        "  # Load image\n",
        "  img = tf.io.read_file(filename)\n",
        "\n",
        "  # Compile image\n",
        "  img = tf.image.decode_image(img)\n",
        "\n",
        "  # Resize image\n",
        "  img = tf.image.resize(img, [size, size])\n",
        "\n",
        "  # Scale the tensor\n",
        "  img = img / 255\n",
        "\n",
        "  return img\n",
        "\n",
        "image = load_and_resize_image(\"/content/drive/MyDrive/data7/chicken/chicken_1529.png\", 240)"
      ],
      "metadata": {
        "colab": {
          "base_uri": "https://localhost:8080/"
        },
        "id": "IeGxI_LoS9WC",
        "outputId": "0584ffbd-a3dd-4d5e-80dc-c2ebfc6e3737"
      },
      "execution_count": 38,
      "outputs": [
        {
          "output_type": "stream",
          "name": "stdout",
          "text": [
            "--2024-02-03 00:17:32--  https://images.healthshots.com/healthshots/en/uploads/2022/01/21143156/EGG-1600x900.jpg\n",
            "Resolving images.healthshots.com (images.healthshots.com)... 23.203.88.91, 2600:1407:3c00:1688::18a5, 2600:1407:3c00:168d::18a5\n",
            "Connecting to images.healthshots.com (images.healthshots.com)|23.203.88.91|:443... connected.\n",
            "HTTP request sent, awaiting response... 404 Not Found\n",
            "2024-02-03 00:17:35 ERROR 404: Not Found.\n",
            "\n"
          ]
        }
      ]
    },
    {
      "cell_type": "code",
      "source": [
        "pred = model.predict(tf.expand_dims(image, axis=0))\n",
        "pred"
      ],
      "metadata": {
        "colab": {
          "base_uri": "https://localhost:8080/"
        },
        "id": "8Hs3VV21TYTh",
        "outputId": "46d0d62b-8faf-4a41-9f15-4b30de18e020"
      },
      "execution_count": 39,
      "outputs": [
        {
          "output_type": "stream",
          "name": "stdout",
          "text": [
            "1/1 [==============================] - 0s 22ms/step\n"
          ]
        },
        {
          "output_type": "execute_result",
          "data": {
            "text/plain": [
              "array([[7.50822364e-04, 1.04908097e-04, 8.38858323e-05, 1.89859618e-03,\n",
              "        4.28804808e-04, 4.28844651e-05, 1.02873356e-03, 2.73418467e-04,\n",
              "        2.61582676e-02, 3.43195528e-01, 1.55793969e-04, 3.03245813e-01,\n",
              "        8.38416293e-02, 9.68630426e-03, 4.64093722e-02, 6.16183551e-03,\n",
              "        4.44010273e-03, 7.11677014e-04, 1.09064022e-05, 1.43270499e-05,\n",
              "        7.15265796e-02, 6.52150717e-04, 8.92404392e-02, 5.53413178e-04,\n",
              "        1.05147985e-04, 6.82456070e-04, 5.24987187e-03, 4.19009157e-04,\n",
              "        6.94703112e-06, 2.24307241e-05, 9.10857343e-04, 1.89907689e-04,\n",
              "        1.41615956e-03, 7.53696586e-05, 3.05690250e-04]], dtype=float32)"
            ]
          },
          "metadata": {},
          "execution_count": 39
        }
      ]
    },
    {
      "cell_type": "code",
      "source": [
        "class_names[pred[0].argmax()]"
      ],
      "metadata": {
        "colab": {
          "base_uri": "https://localhost:8080/",
          "height": 35
        },
        "id": "Lbnw6C3MTg4G",
        "outputId": "b1c63fa0-c05f-4bd6-8dd1-74283d91dbb2"
      },
      "execution_count": 40,
      "outputs": [
        {
          "output_type": "execute_result",
          "data": {
            "text/plain": [
              "'chicken'"
            ],
            "application/vnd.google.colaboratory.intrinsic+json": {
              "type": "string"
            }
          },
          "metadata": {},
          "execution_count": 40
        }
      ]
    },
    {
      "cell_type": "code",
      "source": [],
      "metadata": {
        "id": "fNhDQ1nMTo2z"
      },
      "execution_count": null,
      "outputs": []
    }
  ]
}